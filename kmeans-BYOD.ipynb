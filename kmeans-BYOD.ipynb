{
 "cells": [
  {
   "cell_type": "markdown",
   "metadata": {},
   "source": [
    "# SageMaker BYOD\n",
    "\n",
    "Bring your own docker models to SageMaker"
   ]
  },
  {
   "cell_type": "markdown",
   "metadata": {},
   "source": [
    "### Load modules\n",
    "Load modules. Get IAM role and session"
   ]
  },
  {
   "cell_type": "code",
   "execution_count": 47,
   "metadata": {},
   "outputs": [],
   "source": [
    "import boto3\n",
    "import re\n",
    "\n",
    "import os\n",
    "import numpy as np\n",
    "import pandas as pd\n",
    "from sagemaker import get_execution_role\n",
    "\n",
    "import sagemaker as sage\n",
    "from time import gmtime, strftime\n",
    "\n",
    "from sagemaker import s3\n"
   ]
  },
  {
   "cell_type": "code",
   "execution_count": 48,
   "metadata": {},
   "outputs": [],
   "source": [
    "role = get_execution_role()\n",
    "sess = sage.Session()"
   ]
  },
  {
   "cell_type": "markdown",
   "metadata": {},
   "source": [
    "### Setup S3 buckets\n",
    "\n",
    "Setup input and output buckets"
   ]
  },
  {
   "cell_type": "code",
   "execution_count": null,
   "metadata": {},
   "outputs": [],
   "source": [
    "output_path=s3://{bucketname}/{prefix}/\n",
    "input_path=s3://{bucketname}/{prefix}/"
   ]
  },
  {
   "cell_type": "markdown",
   "metadata": {},
   "source": [
    "### Get raw data\n",
    "Get raw data and copy locally for preprocessing"
   ]
  },
  {
   "cell_type": "code",
   "execution_count": 49,
   "metadata": {},
   "outputs": [],
   "source": [
    "raw_data = pd.read_csv('./mall.csv')"
   ]
  },
  {
   "cell_type": "code",
   "execution_count": 50,
   "metadata": {},
   "outputs": [],
   "source": [
    "train_data = raw_data.iloc[:,[3,4]].values"
   ]
  },
  {
   "cell_type": "markdown",
   "metadata": {},
   "source": [
    "### Upload to S3\n",
    "Upload preprocessed data back to S3"
   ]
  },
  {
   "cell_type": "code",
   "execution_count": 51,
   "metadata": {},
   "outputs": [],
   "source": [
    "# Convert nparry to csv\n",
    "np.savetxt('./processed_data.csv', train_data, delimiter=',',fmt='%d')"
   ]
  },
  {
   "cell_type": "code",
   "execution_count": 52,
   "metadata": {},
   "outputs": [
    {
     "data": {
      "text/plain": [
       "'s3://sampal-pi5/output/processed_data.csv'"
      ]
     },
     "execution_count": 52,
     "metadata": {},
     "output_type": "execute_result"
    }
   ],
   "source": [
    "# Upload the processed csv to S3\n",
    "s3.S3Uploader.upload('processed_data.csv',output_path, kms_key=None)"
   ]
  },
  {
   "cell_type": "markdown",
   "metadata": {},
   "source": [
    "### Train\n",
    "\n",
    "Create a SageMaker estimator with custom hyperparameters and start the training job"
   ]
  },
  {
   "cell_type": "code",
   "execution_count": 53,
   "metadata": {},
   "outputs": [],
   "source": [
    "account = sess.boto_session.client('sts').get_caller_identity()['Account']\n",
    "region = sess.boto_session.region_name\n",
    "image = '{}.dkr.ecr.{}.amazonaws.com/sage-kmeans:latest'.format(account, region)\n",
    "model = sage.estimator.Estimator(image,\n",
    "                       role, \n",
    "                       train_instance_count=1, \n",
    "                       train_instance_type='ml.m5.large',\n",
    "                       output_path=output_path,\n",
    "                       hyperparameters={'n_clusters': 5},\n",
    "                       sagemaker_session=sess)\n",
    "\n"
   ]
  },
  {
   "cell_type": "code",
   "execution_count": 54,
   "metadata": {},
   "outputs": [
    {
     "name": "stdout",
     "output_type": "stream",
     "text": [
      "2020-04-02 19:13:30 Starting - Starting the training job...\n",
      "2020-04-02 19:13:33 Starting - Launching requested ML instances......\n",
      "2020-04-02 19:14:48 Starting - Preparing the instances for training...\n",
      "2020-04-02 19:15:30 Downloading - Downloading input data...\n",
      "2020-04-02 19:15:36 Training - Downloading the training image..\u001b[34mStarting the training.\u001b[0m\n",
      "\u001b[34mHyperparamter n_clusters: 5\u001b[0m\n",
      "\u001b[34mTraining complete.\u001b[0m\n",
      "\n",
      "2020-04-02 19:16:12 Uploading - Uploading generated training model\n",
      "2020-04-02 19:16:12 Completed - Training job completed\n",
      "Training seconds: 42\n",
      "Billable seconds: 42\n"
     ]
    }
   ],
   "source": [
    "model.fit(output_path+'processed_data.csv')"
   ]
  },
  {
   "cell_type": "markdown",
   "metadata": {},
   "source": [
    "### Deploy\n",
    "\n",
    "Create a deployment endpoint"
   ]
  },
  {
   "cell_type": "code",
   "execution_count": 55,
   "metadata": {},
   "outputs": [
    {
     "name": "stdout",
     "output_type": "stream",
     "text": [
      "-----------------!"
     ]
    }
   ],
   "source": [
    "from sagemaker.predictor import csv_serializer\n",
    "predictor = model.deploy(1, 'ml.m4.xlarge', serializer=csv_serializer)"
   ]
  },
  {
   "cell_type": "markdown",
   "metadata": {},
   "source": [
    "### Inference\n",
    "\n",
    "Run inference against the endpoint"
   ]
  },
  {
   "cell_type": "code",
   "execution_count": 59,
   "metadata": {},
   "outputs": [
    {
     "data": {
      "text/plain": [
       "b'0\\n3\\n0\\n3\\n0\\n3\\n0\\n3\\n0\\n3\\n0\\n3\\n0\\n3\\n0\\n3\\n0\\n3\\n0\\n3\\n0\\n3\\n0\\n3\\n0\\n3\\n0\\n3\\n0\\n3\\n0\\n3\\n0\\n3\\n0\\n3\\n0\\n3\\n0\\n3\\n0\\n2\\n0\\n3\\n2\\n2\\n2\\n2\\n2\\n2\\n2\\n2\\n2\\n2\\n2\\n2\\n2\\n2\\n2\\n2\\n2\\n2\\n2\\n2\\n2\\n2\\n2\\n2\\n2\\n2\\n2\\n2\\n2\\n2\\n2\\n2\\n2\\n2\\n2\\n2\\n2\\n2\\n2\\n2\\n2\\n2\\n2\\n2\\n2\\n2\\n2\\n2\\n2\\n2\\n2\\n2\\n2\\n2\\n2\\n2\\n2\\n2\\n2\\n2\\n2\\n2\\n2\\n2\\n2\\n2\\n2\\n2\\n2\\n2\\n2\\n2\\n2\\n2\\n2\\n2\\n2\\n4\\n1\\n4\\n2\\n4\\n1\\n4\\n1\\n4\\n2\\n4\\n1\\n4\\n1\\n4\\n1\\n4\\n1\\n4\\n2\\n4\\n1\\n4\\n1\\n4\\n1\\n4\\n1\\n4\\n1\\n4\\n1\\n4\\n1\\n4\\n1\\n4\\n1\\n4\\n1\\n4\\n1\\n4\\n1\\n4\\n1\\n4\\n1\\n4\\n1\\n4\\n1\\n4\\n1\\n4\\n1\\n4\\n1\\n4\\n1\\n4\\n1\\n4\\n1\\n4\\n1\\n4\\n1\\n4\\n1\\n4\\n1\\n4\\n1\\n4\\n1\\n4\\n'"
      ]
     },
     "execution_count": 59,
     "metadata": {},
     "output_type": "execute_result"
    }
   ],
   "source": [
    "#predictor.predict(train_data.values).decode('utf-8')\n",
    "data = pd.read_csv(output_path+'processed_data.csv')\n",
    "predictor.predict(data.values)"
   ]
  },
  {
   "cell_type": "code",
   "execution_count": 41,
   "metadata": {},
   "outputs": [],
   "source": [
    "# runtime = boto3.Session().client('sagemaker-runtime')\n",
    "# endpoint='sage-kmeans-2020-03-28-01-25-29-970'\n",
    "# import io\n",
    "# from io import StringIO\n",
    "# test_file = io.StringIO()\n",
    "# train_data.to_csv(test_file)\n",
    "# response = runtime.invoke_endpoint(EndpointName=endpoint, ContentType='text/csv', Body=test_file.getvalue())\n",
    "# type(response)"
   ]
  },
  {
   "cell_type": "code",
   "execution_count": 42,
   "metadata": {},
   "outputs": [],
   "source": [
    "# import json\n",
    "# result = json.loads(response['Body'].read().decode())\n",
    "# print (result)"
   ]
  },
  {
   "cell_type": "code",
   "execution_count": 43,
   "metadata": {},
   "outputs": [],
   "source": [
    "# print(response['Body'].read().decode())"
   ]
  },
  {
   "cell_type": "code",
   "execution_count": 44,
   "metadata": {},
   "outputs": [],
   "source": [
    "# response_payload = json.loads(response['Body'].read().decode(\"utf-8\"))\n",
    "\n",
    "# print (\"response_payload: {}\".format(response_payload))"
   ]
  },
  {
   "cell_type": "code",
   "execution_count": 45,
   "metadata": {},
   "outputs": [],
   "source": [
    "# !curl https://runtime.sagemaker.us-east-1.amazonaws.com/endpoints/sage-kmeans-2020-03-28-01-25-29-970/invocations"
   ]
  },
  {
   "cell_type": "markdown",
   "metadata": {},
   "source": [
    "### Clean Up\n",
    "\n",
    "Delete endpoint"
   ]
  },
  {
   "cell_type": "code",
   "execution_count": 60,
   "metadata": {},
   "outputs": [],
   "source": [
    "sess.delete_endpoint(predictor.endpoint)"
   ]
  },
  {
   "cell_type": "code",
   "execution_count": null,
   "metadata": {},
   "outputs": [],
   "source": []
  }
 ],
 "metadata": {
  "kernelspec": {
   "display_name": "conda_python3",
   "language": "python",
   "name": "conda_python3"
  },
  "language_info": {
   "codemirror_mode": {
    "name": "ipython",
    "version": 3
   },
   "file_extension": ".py",
   "mimetype": "text/x-python",
   "name": "python",
   "nbconvert_exporter": "python",
   "pygments_lexer": "ipython3",
   "version": "3.6.5"
  }
 },
 "nbformat": 4,
 "nbformat_minor": 4
}
